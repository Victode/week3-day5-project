{
 "cells": [
  {
   "cell_type": "markdown",
   "metadata": {
    "id": "-fribDKVl_o_"
   },
   "source": [
    "## Python Blackjack\n",
    "For this project you will make a Blackjack game using Python. Click <a href=\"\">here</a> to familiarize yourself with the the rules of the game. You won't be implementing every rule \"down to the letter\" with the game, but we will doing a simpler version of the game. This assignment will be given to further test your knowledge on object-oriented programming concepts.\n",
    "\n",
    "### Rules:\n",
    "\n",
    "`1. ` The game will have two players: the Dealer and the Player. The game will start off with a deck of 52 cards. The 52 cards will consist of 4 different suits: Clubs, Diamonds, Hearts and Spades. For each suit, there will be cards numbered 1 through 13. <br>\n",
    "**Note: No wildcards will be used in the program.**<br>\n",
    "**Note: For the sake of simplicity, You do not have to write any logic to figure out how to handle face cards. Simply give the cards values between 1-13.**\n",
    "\n",
    "`2. ` When the game begins, the dealer will shuffle the deck of cards, making them randomized. After the dealer shuffles, it will deal the player 2 cards and will deal itself 2 cards from. The Player should be able to see both of their own cards, but should only be able to see one of the Dealer's cards.\n",
    " \n",
    "`3. ` The objective of the game is for the Player to count their cards after they're dealt. If they're not satisfied with the number, they have the ability to 'Hit'. A hit allows the dealer to deal the Player one additional card. The Player can hit as many times as they'd like as long as they don't 'Bust'. A bust is when the Player is dealt cards that total more than 21.\n",
    "\n",
    "`4. ` If the dealer deals the Player cards equal to 21 on the **first** deal, the Player wins. This is referred to as Blackjack. Blackjack is **NOT** the same as getting cards that equal up to 21 after the first deal. Blackjack can only be attained on the first deal.\n",
    "\n",
    "`5. ` The Player will never see the Dealer's hand until the Player chooses to 'stand'. A Stand is when the player tells the dealer to not deal it anymore cards. Once the player chooses to Stand, the Player and the Dealer will compare their hands. Whoever has the higher number wins. Keep in mind that the Dealer can also bust. "
   ]
  },
  {
   "cell_type": "code",
   "execution_count": 8,
   "metadata": {
    "id": "SXFHwL62l_pD"
   },
   "outputs": [
    {
     "name": "stdout",
     "output_type": "stream",
     "text": [
      "Welcome to my BlackJack game ♠♣♥♦!\n",
      "Would you like to play (yes/no)?yes\n"
     ]
    },
    {
     "ename": "TypeError",
     "evalue": "hit() missing 2 required positional arguments: 'deck' and 'hand'",
     "output_type": "error",
     "traceback": [
      "\u001b[1;31m---------------------------------------------------------------------------\u001b[0m",
      "\u001b[1;31mTypeError\u001b[0m                                 Traceback (most recent call last)",
      "Input \u001b[1;32mIn [8]\u001b[0m, in \u001b[0;36m<cell line: 94>\u001b[1;34m()\u001b[0m\n\u001b[0;32m     91\u001b[0m             \u001b[38;5;28mprint\u001b[39m(\u001b[38;5;124m\"\u001b[39m\u001b[38;5;124mSorry, Invalid Input. Please enter (hit/stand)\u001b[39m\u001b[38;5;124m\"\u001b[39m)\n\u001b[0;32m     92\u001b[0m             \u001b[38;5;28;01mcontinue\u001b[39;00m\n\u001b[1;32m---> 94\u001b[0m \u001b[43mmain\u001b[49m\u001b[43m(\u001b[49m\u001b[43m)\u001b[49m\n",
      "Input \u001b[1;32mIn [8]\u001b[0m, in \u001b[0;36mmain\u001b[1;34m()\u001b[0m\n\u001b[0;32m     82\u001b[0m nav \u001b[38;5;241m=\u001b[39m \u001b[38;5;28minput\u001b[39m(\u001b[38;5;124m\"\u001b[39m\u001b[38;5;124mWould you like to play (yes/no)?\u001b[39m\u001b[38;5;124m\"\u001b[39m)\n\u001b[0;32m     84\u001b[0m \u001b[38;5;28;01mif\u001b[39;00m nav\u001b[38;5;241m.\u001b[39mlower() \u001b[38;5;241m==\u001b[39m \u001b[38;5;124m\"\u001b[39m\u001b[38;5;124myes\u001b[39m\u001b[38;5;124m\"\u001b[39m:\n\u001b[1;32m---> 85\u001b[0m     \u001b[43mhit\u001b[49m\u001b[38;5;241;43m.\u001b[39;49m\u001b[43mfirstRound\u001b[49m\u001b[43m(\u001b[49m\u001b[43m)\u001b[49m\n\u001b[0;32m     87\u001b[0m \u001b[38;5;28;01melif\u001b[39;00m nav\u001b[38;5;241m.\u001b[39mlower() \u001b[38;5;241m==\u001b[39m \u001b[38;5;124m\"\u001b[39m\u001b[38;5;124mno\u001b[39m\u001b[38;5;124m\"\u001b[39m:\n\u001b[0;32m     88\u001b[0m     \u001b[38;5;28mprint\u001b[39m(\u001b[38;5;124m\"\u001b[39m\u001b[38;5;124mThanks for playing!\u001b[39m\u001b[38;5;124m\"\u001b[39m)\n",
      "Input \u001b[1;32mIn [8]\u001b[0m, in \u001b[0;36mDealer.firstRound\u001b[1;34m(self)\u001b[0m\n\u001b[0;32m     39\u001b[0m \u001b[38;5;28;01mdef\u001b[39;00m \u001b[38;5;21mfirstRound\u001b[39m(\u001b[38;5;28mself\u001b[39m):\n\u001b[0;32m     40\u001b[0m     shuffle\u001b[38;5;241m.\u001b[39mshuffle()\n\u001b[1;32m---> 41\u001b[0m     \u001b[43mgame\u001b[49m\u001b[38;5;241;43m.\u001b[39;49m\u001b[43mhit\u001b[49m\u001b[43m(\u001b[49m\u001b[43m)\u001b[49m\n\u001b[0;32m     42\u001b[0m     game\u001b[38;5;241m.\u001b[39mshowCards()\n",
      "\u001b[1;31mTypeError\u001b[0m: hit() missing 2 required positional arguments: 'deck' and 'hand'"
     ]
    }
   ],
   "source": [
    "import random\n",
    "\n",
    "suits = [\"Spades\", \"Hearts\", \"Clubs\", \"Diamonds\"]\n",
    "\n",
    "cards = [\"A\", \"2\", \"3\", \"4\", \"5\", \"6\", \"7\", \"8\", \"9\", \"10\", \"J\", \"Q\", \"K\"]\n",
    " \n",
    "cards_values = {\"A\": 11, \"2\":2, \"3\":3, \"4\":4, \"5\":5, \"6\":6, \"7\":7, \"8\":8, \"9\":9, \"10\":10, \"J\":10, \"Q\":10, \"K\":10}\n",
    "\n",
    "\n",
    "\n",
    "\n",
    "class Card:\n",
    "    def __init__(self, suits, cards):\n",
    "        self.suits = suits\n",
    "        self.cards = cards\n",
    "\n",
    "class Deck:\n",
    "    def __init__(self):\n",
    "        self.deck = []  \n",
    "        for suit in suits:\n",
    "            for card in cards:\n",
    "                self.deck.append(Card(suits, cards))\n",
    "\n",
    "    def shuffle(self):\n",
    "        random.shuffle(self.deck)\n",
    "        \n",
    "        \n",
    "class Player:\n",
    "    def __init__(self):\n",
    "        self.cards = []  \n",
    "        self.value = 0\n",
    "\n",
    "    def add_card(self, card):\n",
    "        self.cards.append(card)\n",
    "        self.value += values[card.rank]\n",
    "\n",
    "        \n",
    "class Dealer(Player):\n",
    "    shuffle = Deck()\n",
    "    def firstRound(self):\n",
    "        \n",
    "        shuffle.shuffle()\n",
    "        game.hit()\n",
    "        game.showCards()\n",
    "\n",
    "\n",
    "class Human(Player):\n",
    "    pass\n",
    "\n",
    "class Game:\n",
    "    player\n",
    "    def hit(self, deck, hand):\n",
    "        \n",
    "            \n",
    "    \n",
    "    def deal(self):\n",
    "        single_card = self.deck.pop()\n",
    "        return single_card\n",
    "    \n",
    "    \n",
    "    def hit_or_stand(self, deck, hand):\n",
    "        \n",
    "        while True:\n",
    "            x = input(\"Would you like to (hit/stand)?\")\n",
    "            if x[0].lower() == \"hit\":\n",
    "                hit(deck, hand)  \n",
    "\n",
    "            elif x[0].lower() == \"stand\":\n",
    "                print(\"Player stands.\")\n",
    "\n",
    "            else:\n",
    "                print(\"Sorry, Invalid Input. Please enter (hit/stand).\")\n",
    "                continue\n",
    "            break\n",
    "        \n",
    "        \n",
    "    def showCards(player, dealer):\n",
    "        print(f\"Player's Hand: {self.cards}\")\n",
    "        print(f\"{self.value}\")\n",
    "        print(f\"\\nDealer's Hand:\", *dealer.cards, sep=\"\\n \")\n",
    "        print(f\"Dealer's Hand =\", dealer.value)\n",
    "            \n",
    "\n",
    "\n",
    "game = Game()\n",
    "def main():\n",
    "    hit = Dealer()\n",
    "    while True:\n",
    "        print(\"Welcome to my BlackJack game ♠♣♥♦!\") \n",
    "        nav = input(\"Would you like to play (yes/no)?\")\n",
    "        \n",
    "        if nav.lower() == \"yes\":\n",
    "            hit.firstRound()\n",
    "        \n",
    "        elif nav.lower() == \"no\":\n",
    "            print(\"Thanks for playing!\")\n",
    "        \n",
    "        else:\n",
    "            print(\"Sorry, Invalid Input. Please enter (hit/stand)\")\n",
    "            continue\n",
    "\n",
    "main()"
   ]
  },
  {
   "cell_type": "code",
   "execution_count": null,
   "metadata": {},
   "outputs": [],
   "source": []
  }
 ],
 "metadata": {
  "colab": {
   "provenance": []
  },
  "kernelspec": {
   "display_name": "Python 3.9.13 64-bit",
   "language": "python",
   "name": "python3"
  },
  "language_info": {
   "codemirror_mode": {
    "name": "ipython",
    "version": 3
   },
   "file_extension": ".py",
   "mimetype": "text/x-python",
   "name": "python",
   "nbconvert_exporter": "python",
   "pygments_lexer": "ipython3",
   "version": "3.9.13"
  },
  "vscode": {
   "interpreter": {
    "hash": "81794d4967e6c3204c66dcd87b604927b115b27c00565d3d43f05ba2f3a2cb0d"
   }
  }
 },
 "nbformat": 4,
 "nbformat_minor": 1
}
